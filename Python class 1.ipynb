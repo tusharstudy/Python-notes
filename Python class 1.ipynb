{
 "cells": [
  {
   "cell_type": "markdown",
   "id": "f1f2a075-da3d-4510-b1bd-8728f4aba6bb",
   "metadata": {},
   "source": [
    "# Python"
   ]
  },
  {
   "cell_type": "markdown",
   "id": "3dbad08e-03a2-494e-8e0a-7f55b0fd541f",
   "metadata": {},
   "source": [
    "#### Introduction to python\n",
    "#### Installing Python, Jupyter nodebook, google collab"
   ]
  },
  {
   "cell_type": "markdown",
   "id": "53a6d28b-92c7-4bf2-a2fd-7c483239db58",
   "metadata": {},
   "source": [
    "#### Comments"
   ]
  },
  {
   "cell_type": "code",
   "execution_count": 7,
   "id": "103ae70f-ac79-4169-ad97-9499df6f2c92",
   "metadata": {},
   "outputs": [
    {
     "ename": "NameError",
     "evalue": "name 'shift' is not defined",
     "output_type": "error",
     "traceback": [
      "\u001b[1;31m---------------------------------------------------------------------------\u001b[0m",
      "\u001b[1;31mNameError\u001b[0m                                 Traceback (most recent call last)",
      "Cell \u001b[1;32mIn[7], line 6\u001b[0m\n\u001b[0;32m      1\u001b[0m \u001b[38;5;66;03m#1) Comments can be used to explain Python code.\u001b[39;00m\n\u001b[0;32m      2\u001b[0m \u001b[38;5;66;03m#2) Comments can be used to prevent execution when testing code.\u001b[39;00m\n\u001b[0;32m      3\u001b[0m \u001b[38;5;66;03m#3) Comments can be placed at the end of a line, and Python will ignore the rest of the line:\u001b[39;00m\n\u001b[0;32m      4\u001b[0m \n\u001b[0;32m      5\u001b[0m \u001b[38;5;66;03m# // cltr + /\u001b[39;00m\n\u001b[1;32m----> 6\u001b[0m shift \u001b[38;5;241m+\u001b[39m enter\n",
      "\u001b[1;31mNameError\u001b[0m: name 'shift' is not defined"
     ]
    }
   ],
   "source": [
    "#1) Comments can be used to explain Python code.\n",
    "#2) Comments can be used to prevent execution when testing code.\n",
    "#3) Comments can be placed at the end of a line, and Python will ignore the rest of the line:\n",
    "\n",
    "# # // cltr + /\n",
    "# shift + enter"
   ]
  },
  {
   "cell_type": "code",
   "execution_count": 4,
   "id": "d196a498-2291-4497-a315-7a5a2c8fbf50",
   "metadata": {},
   "outputs": [],
   "source": [
    "tushar = 64378487\n"
   ]
  },
  {
   "cell_type": "markdown",
   "id": "6339ed46-2437-4f0f-91bc-022c6c8527a6",
   "metadata": {},
   "source": [
    "#### Variables"
   ]
  },
  {
   "cell_type": "code",
   "execution_count": 1,
   "id": "0cf12a57-3054-4aee-ac6a-927b55eaf158",
   "metadata": {},
   "outputs": [],
   "source": [
    "# 1) Variables are containers for storing data values.\n",
    "# 2) A variable is created the moment you first assign a value to it.\n",
    "# 3) Case-Sensitive\n",
    "\n",
    "# Variables names\n",
    "\n",
    "# *A variable name must start with a letter or the underscore character\n",
    "# *A variable name cannot start with a number\n",
    "# *A variable name can only contain alpha-numeric characters and underscores (A-z, 0-9, and _ )\n",
    "# *Variable names are case-sensitive (age, Age and AGE are three different variables)\n",
    "# *A variable name cannot be any of the Python keywords.\n",
    "\n",
    "# *Legal variable names:\n",
    "\n",
    "myvar = \"John\"\n",
    "my_var   my_nameistushar = \"John\"\n",
    "_my_var = \"John\"\n",
    "myVar = \"John\"\n",
    "MYVAR = \"John\"\n",
    "myvar2 = \"John\"\n",
    "\n",
    "My_Tushar = \"tushar\"\n",
    "\n",
    "# *Illegal variable names:\n",
    "\n",
    "3myvar = \"John\"\n",
    "my-var = \"John\"\n",
    "my var = \"John\"\n",
    "\n",
    "# variables writting styles\n",
    "# *myVariableName = \"John\"\n",
    "# *MyVariableName = \"John\"\n",
    "# *my_variable_name = \"John\""
   ]
  },
  {
   "cell_type": "code",
   "execution_count": 2,
   "id": "0275ee7f-7029-45ca-99db-b680aa783cfc",
   "metadata": {},
   "outputs": [
    {
     "name": "stdout",
     "output_type": "stream",
     "text": [
      "tushar\n"
     ]
    }
   ],
   "source": [
    "x = \"tushar\"\n",
    "print()"
   ]
  },
  {
   "cell_type": "markdown",
   "id": "b7666724-d3ea-47da-89ca-2953b10ae1ed",
   "metadata": {},
   "source": [
    "### Data Types"
   ]
  },
  {
   "cell_type": "code",
   "execution_count": 20,
   "id": "0155bbbe-9903-4f1c-a752-783fc3c7fc2d",
   "metadata": {},
   "outputs": [
    {
     "data": {
      "text/plain": [
       "64378487"
      ]
     },
     "execution_count": 20,
     "metadata": {},
     "output_type": "execute_result"
    }
   ],
   "source": [
    "x = tushar\n",
    "x"
   ]
  },
  {
   "cell_type": "code",
   "execution_count": 24,
   "id": "5e7f58bc-326d-4a1b-83e3-4e7a7de5639e",
   "metadata": {},
   "outputs": [
    {
     "data": {
      "text/plain": [
       "'tushars'"
      ]
     },
     "execution_count": 24,
     "metadata": {},
     "output_type": "execute_result"
    }
   ],
   "source": [
    "s = \"tushars\"\n",
    "s\n",
    "6773838\n",
    "7.6\n"
   ]
  },
  {
   "cell_type": "code",
   "execution_count": 28,
   "id": "32243924-6d3c-4b5a-aa3e-f4d337a2b354",
   "metadata": {},
   "outputs": [],
   "source": [
    "# Built-in Data Types\n",
    "# 1)In programming, data type is an important concept.\n",
    "# 2)Variables can store data of different types, and different types can do different things.\n",
    "# 3)\"Python has the following data types built-in by default, in these categories:\"\"\n",
    "\n",
    "# *Text Type:\tstr\n",
    "# *Numeric Types:\tint, float, complex\n",
    "# *Sequence Types:\tlist, tuple, range\n",
    "# *Mapping Type:\tdict\n",
    "# *Set Types:\tset, frozenset\n",
    "# *Boolean Type:\tbool\n",
    "# *Binary Types:\tbytes, bytearray, memoryview\n",
    "# *None Type:\tNoneType\n",
    "\n",
    "\n",
    "\n",
    "\n",
    "x = \"Hello World\"\tstr\t\n",
    "x = 20\tinteger\n",
    "x = 20.5\tfloat\t\n",
    "x = 1j\tcomplex\t\n",
    "x = [\"apple\", \"banana\", \"cherry\"]\tlist\t\n",
    "x = (\"apple\", \"banana\", \"cherry\")\ttuple\t\n",
    "x = range(6)\trange\t\n",
    "x = {\"name\" : \"John\", \"age\" : 36}\tdict\t\n",
    "x = {\"apple\", \"banana\", \"cherry\"}\tset\t\n",
    "x = True\tbool\t\n",
    "x = None\tNoneType\n",
    "\n",
    "true or false  boolean values\n",
    "x= 3\n",
    "y = 4\n",
    "x > y\n",
    "# Setting the Specific Data Type\n",
    "\n",
    "\n",
    "x = str(\"Hello World\")\tstr\t\n",
    "x = int(20)\tint\t\n",
    "x = float(20.5)\tfloat\t\n",
    "x = bool(5)\tbool\t\n",
    "\n",
    "\n",
    "# x = complex(1j)\tcomplex\t\n",
    "\n",
    "x = list((\"apple\", \"banana\", \"cherry\"))\tlist\t\n",
    "x = tuple((\"apple\", \"banana\", \"cherry\"))\ttuple\t\n",
    "x = dict(name=\"John\", age=36)\tdict\t\n",
    "x = set((\"apple\", \"banana\", \"cherry\"))\tset\t\n",
    "\n",
    "# x = frozenset((\"apple\", \"banana\", \"cherry\"))\tfrozenset\t\n",
    "\n",
    "# x = bytes(5)\tbytes\t\n",
    "# x = bytearray(5)\tbytearray\t\n",
    "# x = memoryview(bytes(5))\tmemoryview"
   ]
  },
  {
   "cell_type": "markdown",
   "id": "46a3c1e6-ed58-4e82-834a-cee1023b3d07",
   "metadata": {},
   "source": [
    "#### Type casting"
   ]
  },
  {
   "cell_type": "code",
   "execution_count": 25,
   "id": "d0f11e45-a8a5-4574-aa14-0a442fbcbddc",
   "metadata": {},
   "outputs": [
    {
     "data": {
      "text/plain": [
       "False"
      ]
     },
     "execution_count": 25,
     "metadata": {},
     "output_type": "execute_result"
    }
   ],
   "source": [
    "x = 3\n",
    "y = 4\n",
    "x > y\n",
    "\n",
    "\n",
    "x = \"tushar\"   string\n",
    "y = 1233    integer\n",
    "z = 9.6    float\n",
    "t = true or false boolean\n",
    "xx\n",
    "x = \"sam\"\n",
    "x"
   ]
  },
  {
   "cell_type": "code",
   "execution_count": 16,
   "id": "3abb31da-0606-46ce-8c80-5ff39755fc31",
   "metadata": {},
   "outputs": [
    {
     "data": {
      "text/plain": [
       "float"
      ]
     },
     "execution_count": 16,
     "metadata": {},
     "output_type": "execute_result"
    }
   ],
   "source": [
    "x = 788789.88\n",
    "x = float(x)\n",
    "type(x)\n",
    "x = float(776786.0)\n",
    "float\n",
    "str"
   ]
  },
  {
   "cell_type": "code",
   "execution_count": 29,
   "id": "b5ca86c1-15e3-45ec-bc10-269e9c5cd4ca",
   "metadata": {},
   "outputs": [],
   "source": [
    "# Specify a Variable Type\n",
    "\n",
    "# *integer \n",
    "#    z = int(\"3\")\n",
    "# *float\n",
    "#    w = float(\"4.2\")\n",
    "# *string\n",
    "#    z = str(3.0)"
   ]
  },
  {
   "cell_type": "code",
   "execution_count": null,
   "id": "876db317-2533-42c8-abd0-6e414f612d8a",
   "metadata": {},
   "outputs": [],
   "source": [
    "+ - = "
   ]
  },
  {
   "cell_type": "markdown",
   "id": "4364bbd4-61fa-4636-9a85-ed13ea439a75",
   "metadata": {},
   "source": [
    "#### Operators"
   ]
  },
  {
   "cell_type": "code",
   "execution_count": 8,
   "id": "5dfc5adf-20f9-4f83-b492-abedf243f0f3",
   "metadata": {},
   "outputs": [],
   "source": [
    "# 1) Operators are used to perform mathematical operations on variables and values.\n",
    "\n",
    "# *Arithmetic operators\n",
    "# *Assignment operators\n",
    "# *Comparison operators\n",
    "# *Logical operators\n",
    "# *Identity operators\n",
    "# *Membership operators\n",
    "# *Bitwise operators\n",
    "\n",
    "# 1) Arithmetic operators\n",
    "# +\t Addition\t      x + y\t\n",
    "# -\t Subtraction\t  x - y\t\n",
    "# *\t Multiplication\t  x * y\t\n",
    "# /\t Division\t      x / y\t\n",
    "# %\t Modulus\t      x % y\t\n",
    "# ** Exponentiation\t  x ** y\t\n",
    "# // Floor division\t  x // y\n",
    "\n",
    "# 2) Assignment operators\n",
    "x += y\n",
    "# =\t        x = 5\t    x = 5\t\n",
    "# +=\t    x += 3\t    x = x + 3\t\n",
    "# -=\t    x -= 3   \tx = x - 3\t\n",
    "# *=\t    x *= 3  \tx = x * 3\t\n",
    "# /=\t    x /= 3\t    x = x / 3\t\n",
    "# %=\t    x %= 3\t    x = x % 3\t\n",
    "# //=\t    x //= 3\t    x = x // 3\t\n",
    "# **=\t    x **= 3\t    x = x ** 3\t\n",
    "# &=\t    x &= 3  \tx = x & 3\t\n",
    "# |=\t    x |= 3  \tx = x | 3\t\n",
    "# ^=\t    x ^= 3  \tx = x ^ 3\t\n",
    "# >>=\t    x >>= 3  \tx = x >> 3\t\n",
    "# <<=\t    x <<= 3  \tx = x << 3\t\n",
    "\n",
    "# 3) Comparison operators\n",
    "\n",
    "# ==    Equal\t                     x == y\t\n",
    "# !=    Not equal\t                 x != y\t\n",
    "# >     Greater than                 x > y\t\n",
    "# <\t    Less than\t                 x < y\t\n",
    "# >= \tGreater than or equal to\t x >= y\t\n",
    "# <=    Less than or equal to\t     x <= y\n",
    "\n",
    "# 4) Logical operators\n",
    "\n",
    "# and    \tReturns True if both statements are true\t                    x < 5 and  x < 10\t\n",
    "# or\t    Returns True if one of the statements is true\t                x < 5 or x < 4\t\n",
    "# not\t    Reverse the result, returns False if the result is true\tnot    (x < 5 and x < 10)"
   ]
  },
  {
   "cell_type": "code",
   "execution_count": 46,
   "id": "421dc22c-8ccd-4b37-97b2-780db53bfe87",
   "metadata": {
    "scrolled": true
   },
   "outputs": [
    {
     "data": {
      "text/plain": [
       "False"
      ]
     },
     "execution_count": 46,
     "metadata": {},
     "output_type": "execute_result"
    }
   ],
   "source": [
    "y = 3\n",
    "x = 2 \n",
    "\n",
    "not(x > y and x < y)"
   ]
  },
  {
   "cell_type": "code",
   "execution_count": 27,
   "id": "7fa3538e-4f3a-43ce-8883-3c8ee05599a2",
   "metadata": {},
   "outputs": [
    {
     "name": "stdout",
     "output_type": "stream",
     "text": [
      "1\n"
     ]
    }
   ],
   "source": [
    "x = 5\n",
    "y = 2\n",
    "\n",
    "print(x % y)"
   ]
  },
  {
   "cell_type": "markdown",
   "id": "827b9d94-4ab9-4850-9a1f-6bcc2f8720fa",
   "metadata": {},
   "source": [
    "#### Condittional Statements"
   ]
  },
  {
   "cell_type": "markdown",
   "id": "40e6ebb6-6de6-459b-a1fa-b881e3367a92",
   "metadata": {},
   "source": [
    "##### 1) If Statement\n",
    "##### 2) If-else Statement\n",
    "##### 3) If-elif-else Statement\n",
    "##### 4) Nested Statement\n",
    "##### 5) short hand if statement"
   ]
  },
  {
   "cell_type": "code",
   "execution_count": 22,
   "id": "84f09604-8476-4683-9cf3-b3ffd70fdcaa",
   "metadata": {},
   "outputs": [
    {
     "name": "stdout",
     "output_type": "stream",
     "text": [
      "Both conditions are True\n"
     ]
    }
   ],
   "source": [
    "a = 200\n",
    "b = 33\n",
    "c = 500\n",
    "if a > b and c > a:\n",
    "  print(\"Both conditions are True\")"
   ]
  },
  {
   "cell_type": "code",
   "execution_count": 24,
   "id": "7f6ab36b-6c5b-492a-adb8-05721ca4d5e2",
   "metadata": {},
   "outputs": [
    {
     "name": "stdout",
     "output_type": "stream",
     "text": [
      "At least one of the conditions is True\n"
     ]
    }
   ],
   "source": [
    "a = 200\n",
    "b = 33\n",
    "c = 500\n",
    "if a > b or a > c:\n",
    "  print(\"At least one of the conditions is True\")"
   ]
  },
  {
   "cell_type": "code",
   "execution_count": 28,
   "id": "e53dec9a-edff-4cb6-bfd3-04fbe1d3bfec",
   "metadata": {},
   "outputs": [
    {
     "name": "stdout",
     "output_type": "stream",
     "text": [
      "a is NOT greater than b\n"
     ]
    }
   ],
   "source": [
    "a = 33\n",
    "b = 200\n",
    "if  not a > b:\n",
    "  print(\"a is NOT greater than b\")\n",
    "    elf1\n",
    "    elf2\n",
    "    \n",
    "else:\n",
    "    print(\"a is write\")\n",
    "elfi"
   ]
  },
  {
   "cell_type": "code",
   "execution_count": 35,
   "id": "815cffff-fef7-4cc0-932b-33403c430901",
   "metadata": {},
   "outputs": [],
   "source": [
    "# 1) If Statement\n",
    "\n",
    "# Python supports the usual logical conditions from mathematics:\n",
    "\n",
    "# Equals: a == b\n",
    "# Not Equals: a != b\n",
    "# Less than: a < b\n",
    "# Less than or equal to: a <= b\n",
    "# Greater than: a > b\n",
    "# Greater than or equal to: a >= b\n",
    "# These conditions can be used in several ways, most commonly in \"if statements\" and loops.\n",
    "\n",
    "# An \"if statement\" is written by using the if keyword.\n",
    "\n",
    "\n",
    "# > a = 33\n",
    "# > b = 200\n",
    "> if b > a:\n",
    ">   print(\"b is greater than a\")\n",
    "\n",
    "# If statement, without indentation (will raise an error):\n",
    "\n",
    "# > a = 33\n",
    "# > b = 200\n",
    "# > if b > a:\n",
    "# > print(\"b is greater than a\") # you will get an error\n",
    "\n",
    "\n",
    "# Else Statement\n",
    "\n",
    "# > a = 200\n",
    "# > b = 33\n",
    "# > if b > a:\n",
    "# >   print(\"b is greater than a\")\n",
    "# > else:\n",
    "# >   print(\"a is greater than b\")\n",
    "\n",
    "\n",
    "# Elif Statement\n",
    "\n",
    "# > The elif keyword is Python's way of saying \"if the previous conditions were not true, then try this condition\".\n",
    "\n",
    "# > a = 33\n",
    "# > b = 33\n",
    "# > if b > a:\n",
    "# >   print(\"b is greater than a\")\n",
    "# > elif a == b:\n",
    "# >   print(\"a and b are equal\")\n",
    "# > else:\n",
    "# >   print(\"a is greater than b\")\n",
    "\n",
    "# Short Hand If\n",
    "\n",
    "# > If you have only one statement to execute, you can put it on the same line as the if statement.\n",
    "\n",
    "# >  if a > b: print(\"a is greater than b\")\n",
    "\n",
    "# Short Hand If ... Else\n",
    "\n",
    "# > If you have only one statement to execute, one for if, and one for else, you can put it all on the same line:\n",
    "\n",
    "# > a = 2\n",
    "# > b = 330\n",
    "# > print(\"A\") if a > b else print(\"B\")\n",
    "\n",
    "# > print(\"A\") if a > b else print(\"=\") if a == b else print(\"B\")\n",
    "\n",
    "\n",
    "# using this\n",
    "# And\n",
    "# > if a > b and c > a:\n",
    "#   print(\"Both conditions are True\")\n",
    "# Or\n",
    "# > if a > b or a > c:\n",
    "#   print(\"At least one of the conditions is True\")\n",
    "# Not\n",
    "# > if not a > b:\n",
    "#   print(\"a is NOT greater than b\")\n",
    "\n",
    "\n",
    "# Nested If \n",
    "# > You can have if statements inside if statements, this is called nested if statements.\n",
    "\n",
    "# > x = 41\n",
    "\n",
    "# > if x > 10:\n",
    "# >   print(\"Above ten,\")\n",
    "# >   if x > 20:\n",
    "# >     print(\"and also above 20!\")\n",
    "# >   else:\n",
    "# >     print(\"but not above 20.\")\n",
    "\n",
    "\n",
    "# The pass Statement\n",
    "# > if statements cannot be empty, but if you for some reason have an if statement with no content, put in the pass statement to avoid getting an error.\n",
    "\n",
    "# > a = 33\n",
    "# > b = 200\n",
    "\n",
    "# > if b > a:\n",
    "# >   pass"
   ]
  },
  {
   "cell_type": "code",
   "execution_count": null,
   "id": "8a751a4c-1736-4032-a78f-3d3592c60082",
   "metadata": {},
   "outputs": [],
   "source": [
    "# > a = 33\n",
    "# > b = 200\n",
    "> if b > a:\n",
    ">   print(\"b is greater than a\")"
   ]
  },
  {
   "cell_type": "code",
   "execution_count": 30,
   "id": "8c9b4e0d-b56d-4175-b888-e3fc4290048b",
   "metadata": {},
   "outputs": [],
   "source": [
    "a = 200\n",
    "b = 200\n",
    "if a > b:\n",
    "    if b > a:\n",
    "        print(x)\n",
    "        print(\"this true\")\n"
   ]
  },
  {
   "cell_type": "code",
   "execution_count": null,
   "id": "b51f2c1e-ea5c-490b-8785-f9aab90b8c95",
   "metadata": {},
   "outputs": [],
   "source": [
    "if a > b: print(\"this true\")"
   ]
  },
  {
   "cell_type": "markdown",
   "id": "8bc47ced-cbcd-43df-9c88-e8cd65ba8a76",
   "metadata": {},
   "source": [
    "#### Loops"
   ]
  },
  {
   "cell_type": "markdown",
   "id": "c821ad46-11b4-4992-ac91-ae0d94288b7b",
   "metadata": {},
   "source": [
    "##### 1) For Loop\n",
    "##### 2) While Loop\n",
    "##### 3) While True\n",
    "##### 4) Nested Loop"
   ]
  },
  {
   "cell_type": "code",
   "execution_count": 31,
   "id": "a46c3a11-47d3-4101-851d-b24bc0c45857",
   "metadata": {},
   "outputs": [
    {
     "name": "stdout",
     "output_type": "stream",
     "text": [
      "apple\n",
      "banana\n",
      "cherry\n"
     ]
    }
   ],
   "source": [
    "fruits = [\"apple\", \"banana\", \"cherry\"] \n",
    "for i in fruits:\n",
    "  print(i)\n",
    "    if banana > 4 :\n",
    "        print(loop is stoped)"
   ]
  },
  {
   "cell_type": "code",
   "execution_count": 1,
   "id": "feba50e0-38c7-4c7b-bb9b-3e80312bed1d",
   "metadata": {},
   "outputs": [],
   "source": [
    "# 1) For Loop\n",
    "\n",
    "# > For loop is a loop that repeats something in a given range.\n",
    "# > The range has a starting point, ending point and a step/gap in it.\n",
    "# > +1 is added to the ending point while defining a range.\n",
    "\n",
    "> fruits = [\"apple\", \"banana\", \"cherry\"]\n",
    "> for i in fruits:\n",
    ">   print(i)\n",
    "\n",
    "# Loop through the letters in the word \"banana\":\n",
    "# > for x in \"banana\":\n",
    "# >   print(x)\n",
    "\n",
    "# The range() Function\n",
    "# > The range() function returns a sequence of numbers, starting from 0 by default,\n",
    "#   and increments by 1 (by default), and ends at a specified number.\n",
    "# > for x in range(0, 31, 2):\n",
    "# >   print(x\n",
    "\n",
    "# The pass Statement\n",
    "# > for x in [0, 1, 2]:\n",
    "# >   pass"
   ]
  },
  {
   "cell_type": "code",
   "execution_count": 35,
   "id": "7e1740d9-b45e-4cd7-81eb-e7c9217805b3",
   "metadata": {},
   "outputs": [
    {
     "name": "stdout",
     "output_type": "stream",
     "text": [
      "2\n",
      "4\n",
      "6\n",
      "8\n"
     ]
    }
   ],
   "source": [
    "for i in fruits:\n",
    "  print(i)\n",
    "\n",
    "i = 1\n",
    "a = 2\n",
    "while a < 10:\n",
    "  print(a)\n",
    "  a += 2"
   ]
  },
  {
   "cell_type": "code",
   "execution_count": null,
   "id": "a365b4d3-9718-4325-a59d-f9960ddb934a",
   "metadata": {},
   "outputs": [],
   "source": [
    "# 2) While Loop\n",
    "\n",
    "# > while loop executes till the given condition is true.\n",
    "# > in while loop, the increment is done inside the loop.\n",
    "\n",
    "# > i = 1\n",
    "# > while i < 6:\n",
    "# >   print(i)\n",
    "# >   i += 1\n",
    "\n",
    "# > The while loop requires relevant variables to be ready, \n",
    "#   in this example we need to define an indexing variable, i, which we set to 1.\n",
    "\n",
    "# > n = 1\n",
    "# > a = 7\n",
    "# > while n<=10:\n",
    "# >     print (a, \"x\", n,\"=\" , n*a)\n",
    "#       n+=1\n",
    "\n",
    "# The break Statement\n",
    "# i = 1\n",
    "# while i < 6:\n",
    "#   print(i)\n",
    "#   if i == 3:\n",
    "#     break\n",
    "#   i += 1\n",
    "\n",
    "# The continue Statement\n",
    "# i = 0\n",
    "# while i < 6:\n",
    "#   i += 1\n",
    "#   if i == 3:\n",
    "#     continue\n",
    "#   print(i)"
   ]
  },
  {
   "cell_type": "markdown",
   "id": "2aa2289f-dad6-463b-9bc0-3c8c6c4b38dc",
   "metadata": {},
   "source": [
    "#### String"
   ]
  },
  {
   "cell_type": "code",
   "execution_count": null,
   "id": "b480477c-9032-4941-9924-b0ffdac0787e",
   "metadata": {},
   "outputs": [],
   "source": [
    "Strings in python are surrounded by either single quotation marks, or double quotation marks.\n",
    "\n",
    "'hello' is the same as \"hello\".\n",
    "tushar = \"tushar isn't\"\n",
    "\n",
    "Quotes Inside Quotes\n",
    "print(\"It's alright\")\n",
    "print(\"He is called 'Johnny'\")\n",
    "print('He is called \"Johnny\"')\n",
    "\n",
    "Strings are Arrays\n",
    "> Get the character at position 1 (remember that the first character has the position 0):\n",
    "> a = \"Hello, World!\"\n",
    "> a[1]"
   ]
  },
  {
   "cell_type": "code",
   "execution_count": 37,
   "id": "446cb5f5-fb90-488e-986c-e323b46645e8",
   "metadata": {},
   "outputs": [
    {
     "data": {
      "text/plain": [
       "'apple'"
      ]
     },
     "execution_count": 37,
     "metadata": {},
     "output_type": "execute_result"
    }
   ],
   "source": [
    "fruits = [\"apple\", \"banana\", \"cherry\"]\n",
    "fruits[0]"
   ]
  },
  {
   "cell_type": "code",
   "execution_count": 38,
   "id": "668d3256-9cd2-4733-afc5-354269f36d4f",
   "metadata": {},
   "outputs": [
    {
     "data": {
      "text/plain": [
       "'e'"
      ]
     },
     "execution_count": 38,
     "metadata": {},
     "output_type": "execute_result"
    }
   ],
   "source": [
    "a = \"Hello, World!\"\n",
    "a[1]"
   ]
  },
  {
   "cell_type": "markdown",
   "id": "c55a5a15-8110-4be6-8e06-11af84936263",
   "metadata": {},
   "source": [
    "#### String - manipulation"
   ]
  },
  {
   "cell_type": "markdown",
   "id": "28d004b3-0e7b-4beb-b1cf-cb9ffa9848cc",
   "metadata": {},
   "source": [
    "##### 1) length\n",
    "##### 2) upper\n",
    "##### 3) lower\n",
    "##### 4) index\n",
    "##### 5) capitalize"
   ]
  },
  {
   "cell_type": "code",
   "execution_count": 40,
   "id": "971e9b94-1ded-4b67-9fe8-675cfadb5efa",
   "metadata": {},
   "outputs": [
    {
     "data": {
      "text/plain": [
       "'HELLO, WORLD!'"
      ]
     },
     "execution_count": 40,
     "metadata": {},
     "output_type": "execute_result"
    }
   ],
   "source": [
    "a = \"Hello, World!\"\n",
    "a.upper()"
   ]
  },
  {
   "cell_type": "code",
   "execution_count": 41,
   "id": "671a49d8-d302-4114-a09a-ff1e66b6c314",
   "metadata": {},
   "outputs": [
    {
     "data": {
      "text/plain": [
       "'Hello, and welcome to my world.'"
      ]
     },
     "execution_count": 41,
     "metadata": {},
     "output_type": "execute_result"
    }
   ],
   "source": [
    "txt = \"hello, and welcome to my world.\"\n",
    "x = txt.capitalize()\n",
    "x"
   ]
  },
  {
   "cell_type": "code",
   "execution_count": 39,
   "id": "ccbf525b-9294-424d-bda8-f384c33ddaf5",
   "metadata": {},
   "outputs": [
    {
     "ename": "SyntaxError",
     "evalue": "unmatched ')' (4007954914.py, line 1)",
     "output_type": "error",
     "traceback": [
      "\u001b[1;36m  Cell \u001b[1;32mIn[39], line 1\u001b[1;36m\u001b[0m\n\u001b[1;33m    1) length\u001b[0m\n\u001b[1;37m     ^\u001b[0m\n\u001b[1;31mSyntaxError\u001b[0m\u001b[1;31m:\u001b[0m unmatched ')'\n"
     ]
    }
   ],
   "source": [
    "1) length\n",
    "> a = \"Hello, World!\"\n",
    "> len(a)\n",
    "\n",
    "2) upper\n",
    "> a = \"Hello, World!\"\n",
    "> a.upper()\n",
    "\n",
    "3) lower\n",
    "> a = \"Hello, World!\"\n",
    "> a.lower()\n",
    "\n",
    "4) index\n",
    "Where in the text is the word \"welcome\"\n",
    "> txt = \"Hello, welcome to my world.\"\n",
    "> x = txt.index(\"welcome\")\n",
    "> x\n",
    "\n",
    "5) capitalize\n",
    "Upper case the first letter in this sentence:\n",
    "> txt = \"hello, and welcome to my world.\"\n",
    "> x = txt.capitalize()\n",
    "> x"
   ]
  },
  {
   "cell_type": "markdown",
   "id": "708a571c-9d53-4179-8eec-4e0b38af05e9",
   "metadata": {},
   "source": [
    "#### Slicing String"
   ]
  },
  {
   "cell_type": "code",
   "execution_count": null,
   "id": "1381ea01-99ad-4e00-92ae-1a1193ce2255",
   "metadata": {},
   "outputs": [],
   "source": [
    "# *Get the characters from position 2 to position 5 (not included):\n",
    "# b = \"Hello, World!\"\n",
    "# b[2:5]\n",
    "\n",
    "# *Slice From the Start\n",
    "# b = \"Hello, World!\"\n",
    "# b[:5]\n",
    "\n",
    "# *Slice To the End\n",
    "# b = \"Hello, World!\"\n",
    "# b[2:]\n",
    "\n",
    "# *Use negative indexes to start the slice from the end of the string:\n",
    "# b = \"Hello, World!\"\n",
    "# b[-5:-2]"
   ]
  },
  {
   "cell_type": "code",
   "execution_count": 48,
   "id": "bb1847d3-03a5-4ffd-b745-0ea245ff9619",
   "metadata": {},
   "outputs": [
    {
     "data": {
      "text/plain": [
       "['apple', 'banana', 'cherry']"
      ]
     },
     "execution_count": 48,
     "metadata": {},
     "output_type": "execute_result"
    }
   ],
   "source": [
    "fruits = [\"apple\", \"banana\", \"cherry\",\"mango\",\"jackfruit\"]\n",
    "fruits[0:-2]"
   ]
  },
  {
   "cell_type": "code",
   "execution_count": null,
   "id": "f2e909da-79e0-42f0-a9d2-4a9747a73a66",
   "metadata": {},
   "outputs": [],
   "source": []
  }
 ],
 "metadata": {
  "kernelspec": {
   "display_name": "Python 3 (ipykernel)",
   "language": "python",
   "name": "python3"
  },
  "language_info": {
   "codemirror_mode": {
    "name": "ipython",
    "version": 3
   },
   "file_extension": ".py",
   "mimetype": "text/x-python",
   "name": "python",
   "nbconvert_exporter": "python",
   "pygments_lexer": "ipython3",
   "version": "3.12.7"
  }
 },
 "nbformat": 4,
 "nbformat_minor": 5
}
