{
 "cells": [
  {
   "cell_type": "markdown",
   "id": "0baf0ff6-3be1-4985-a484-17ec550619d8",
   "metadata": {},
   "source": [
    "# Pandas"
   ]
  },
  {
   "cell_type": "code",
   "execution_count": null,
   "id": "e12e0787-057b-4895-ba5a-38dac17df4cf",
   "metadata": {},
   "outputs": [],
   "source": [
    "1) import pandas as pd\n",
    "2) pd.DataFrame\n",
    "3) .head()\n",
    "4) .tail()\n",
    "5) .columns\n",
    "6) .index\n",
    "7) .index.tolist\n",
    "8) .info()\n",
    "9) .describe()\n",
    "10) .unique()\n",
    "11) .nunique()\n",
    "12) .shape\n",
    "13) .size\n",
    "14) pd.read_csv(\"\")\n",
    "15) .sample()\n",
    "16) .loc[]\n",
    "17) .iloc[]\n",
    "18) .sort_values()\n",
    "19) .str.contains()\n",
    "20) .isin()\n",
    "21) .query\n",
    "22) .drop\n",
    "23) .rename()\n",
    "24) .to_datetime()\n",
    "25) .to_csv(\"\")\n",
    "26) .to_excel(\"\")\n",
    "27) .apply()\n",
    "28) .merge()\n",
    "29) .rename()\n",
    "30) .concat()\n",
    "31) .fillna()\n",
    "32) .dropna()\n",
    "33) .notna()\n",
    "34) .value_counts()\n",
    "35) .count()\n",
    "36) .sum()\n",
    "37) .groupby()"
   ]
  }
 ],
 "metadata": {
  "kernelspec": {
   "display_name": "Python 3 (ipykernel)",
   "language": "python",
   "name": "python3"
  },
  "language_info": {
   "codemirror_mode": {
    "name": "ipython",
    "version": 3
   },
   "file_extension": ".py",
   "mimetype": "text/x-python",
   "name": "python",
   "nbconvert_exporter": "python",
   "pygments_lexer": "ipython3",
   "version": "3.12.7"
  }
 },
 "nbformat": 4,
 "nbformat_minor": 5
}
