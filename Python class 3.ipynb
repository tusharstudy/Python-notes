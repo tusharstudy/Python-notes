{
 "cells": [
  {
   "cell_type": "markdown",
   "id": "87c92e1c-ea6d-4e7b-b2ab-2b2cb8ea3d0c",
   "metadata": {},
   "source": [
    "### Functions"
   ]
  },
  {
   "cell_type": "code",
   "execution_count": null,
   "id": "0a0079b7-c13a-445e-8b5a-0b771929a9cd",
   "metadata": {},
   "outputs": [],
   "source": [
    "> A function is a block of code which only runs when it is called.\n",
    "\n",
    "> You can pass data, known as parameters, into a function.\n",
    "    \n",
    "> A function can return data as a result.\n",
    "\n",
    "> In Python a function is defined using the def keyword:\n",
    "\n",
    "def my_function():\n",
    "  print(\"Hello from a function\")\n",
    "\n",
    "> To call a function, use the function name followed by parenthesis:\n",
    "def my_function():\n",
    "  print(\"Hello from a function\")\n",
    "    \n",
    "my_function()"
   ]
  },
  {
   "cell_type": "code",
   "execution_count": 1,
   "id": "399d5010-16b8-4f85-a453-5decb070ce43",
   "metadata": {},
   "outputs": [
    {
     "name": "stdout",
     "output_type": "stream",
     "text": [
      "Hello from a function\n"
     ]
    }
   ],
   "source": [
    "def tushar():\n",
    "  print(\"Hello from a function\")\n",
    "\n",
    "tushar()"
   ]
  },
  {
   "cell_type": "markdown",
   "id": "b754f3bd-d046-450a-98c5-fcac8ecfec26",
   "metadata": {},
   "source": [
    "### Arguments"
   ]
  },
  {
   "cell_type": "code",
   "execution_count": 15,
   "id": "c021bf8b-00dc-46e0-8a50-0e0a32675598",
   "metadata": {},
   "outputs": [
    {
     "name": "stdout",
     "output_type": "stream",
     "text": [
      "7847487 tushar sawant\n"
     ]
    }
   ],
   "source": [
    "def my_function(id, password,lastname):\n",
    "  print(id +\" \"+ password +\" \"+ lastname)\n",
    "\n",
    "my_function(\"7847487\" , \"tushar\" , \"sawant\")\n"
   ]
  },
  {
   "cell_type": "code",
   "execution_count": null,
   "id": "7b75827f-8152-4bdf-aa9e-b050f1b7d3e6",
   "metadata": {},
   "outputs": [],
   "source": [
    "Arguments\n",
    "\n",
    "> Information can be passed into functions as arguments.\n",
    "> Arguments are specified after the function name, inside the parentheses. \n",
    "  You can add as many arguments as you want, just separate them with a comma.\n",
    "> The following example has a function with one argument (fname).\n",
    "  When the function is called, we pass along a first name, which is used inside the function to print the full name:\n",
    "\n",
    "def my_function(fname):\n",
    "  print(fname + \" Refsnes\")\n",
    "\n",
    "my_function(\"Emil\")\n",
    "my_function(\"Tobias\")\n",
    "my_function(\"Linus\")\n",
    "\n",
    "\n",
    "Number of Arguments\n",
    "\n",
    "> By default, a function must be called with the correct number of arguments. \n",
    "  Meaning that if your function expects 2 arguments, you have to call the function with 2 arguments, not more, and not less.\n",
    "\n",
    "> This function expects 2 arguments, and gets 2 arguments:\n",
    "\n",
    "def my_function(fname, lname):\n",
    "  print(fname + \" \" + lname)\n",
    "\n",
    "my_function(\"Emil\", \"Refsnes\")"
   ]
  },
  {
   "cell_type": "code",
   "execution_count": 18,
   "id": "b48d4cc1-98df-45dc-8d3a-1c59f4fbfed6",
   "metadata": {},
   "outputs": [
    {
     "name": "stdout",
     "output_type": "stream",
     "text": [
      "The youngest child is tushar\n"
     ]
    }
   ],
   "source": [
    "def my_function(*kids):\n",
    "  print(\"The youngest child is \" + kids[3])\n",
    "\n",
    "my_function(\"Emil\", \"Tobias\", \"Linus\", \"tushar\")"
   ]
  },
  {
   "cell_type": "markdown",
   "id": "da658d9c-9282-4bcf-be17-c753212a4771",
   "metadata": {},
   "source": [
    "### Lambda"
   ]
  },
  {
   "cell_type": "code",
   "execution_count": null,
   "id": "db50a283-0d3f-46eb-a986-39a5996901ac",
   "metadata": {},
   "outputs": [],
   "source": [
    "> A lambda function is a small anonymous function.\n",
    "> A lambda function can take any number of arguments, but can only have one expression.\n",
    "\n",
    "    lambda arguments : expression\n",
    "> The expression is executed and the result is returned\n",
    "    \n",
    "> Adding 10 to argument a, and return the result:\n",
    " lambda a : a + 10\n",
    "print(lambda(5))\n",
    "\n",
    "> Multiply argument a with argument b and return the result:\n",
    "x = lambda a, b : a * b\n",
    "print(x(5, 6))\n",
    "\n",
    "> Summarize argument a, b, and c and return the result:\n",
    "x = lambda a, b, c : a + b + c\n",
    "print(x(5, 6, 2))\n",
    "\n",
    "Why Use Lambda Functions?\n",
    "> The power of lambda is better shown when you use them as an anonymous function inside another function.\n",
    "> Say you have a function definition that takes one argument, and that argument will be multiplied with an unknown number:\n",
    "\n",
    "eg.:\n",
    "\n",
    "def myfunc(n):\n",
    "  return lambda a : a * n\n",
    "\n",
    "mydoubler = myfunc(2)\n",
    "\n",
    "print(mydoubler(11))\n",
    "\n",
    ">\n",
    "\n",
    "def myfunc(n):\n",
    "  return lambda a : a * n\n",
    "\n",
    "mytripler = myfunc(3)\n",
    "\n",
    "print(mytripler(11))      \n",
    "\n",
    "\n",
    ">\n",
    "\n",
    "def myfunc(n):\n",
    "  return lambda a : a * n\n",
    "\n",
    "mydoubler = myfunc(2)\n",
    "mytripler = myfunc(3)\n",
    "\n",
    "print(mydoubler(11))\n",
    "print(mytripler(11))\n",
    "\n",
    "\n",
    "Use lambda functions when an anonymous function is required for a short period of time."
   ]
  },
  {
   "cell_type": "markdown",
   "id": "562d5c4f-0187-422a-a79b-089b1db0c2c0",
   "metadata": {},
   "source": [
    "### Arrays"
   ]
  },
  {
   "cell_type": "code",
   "execution_count": null,
   "id": "79d949d5-2d64-41d7-8d31-f79cfa17120b",
   "metadata": {},
   "outputs": [],
   "source": [
    "Note: Python does not have built-in support for Arrays, but Python Lists can be used instead.\n",
    "    \n",
    "> Arrays are used to store multiple values in one single variable:\n",
    "cars = [\"Ford\", \"Volvo\", \"BMW\"]\n",
    "\n",
    "What is an Array?\n",
    "> An array is a special variable, which can hold more than one value at a time.\n",
    "\n",
    "> If you have a list of items (a list of car names, for example),\n",
    "storing the cars in single variables could look like this:\n",
    "\n",
    "car1 = \"Ford\"\n",
    "car2 = \"Volvo\"\n",
    "car3 = \"BMW\"\n",
    "> However, what if you want to loop through the cars and find a specific one? \n",
    "And what if you had not 3 cars, but 300?\n",
    "\n",
    "The solution is an array!\n",
    "\n",
    "An array can hold many values under a single name, and you can access the values by referring to an index number.\n",
    "\n",
    "\n",
    "Access the Elements of an Array\n",
    "cars = [\"tushar\",]\n",
    "> Get the value of the first array item:\n",
    "x = cars[0]\n",
    "cars[0]\n",
    "> Modify the value of the first array item:\n",
    "cars[0] = \"Toyota\"\n",
    "\n",
    "> Add one more element to the cars array:\n",
    "cars1 = cars.append(\"Honda\")\n",
    "\n",
    "> Delete the second element of the cars array:\n",
    "cars.pop(1)\n",
    "\n",
    "> Delete the element that has the value \"Volvo\":\n",
    "cars.remove(\"Volvo\")\n",
    "\n"
   ]
  },
  {
   "cell_type": "code",
   "execution_count": 23,
   "id": "6803d41c-d2ea-4578-80bb-a2ed043ddadc",
   "metadata": {},
   "outputs": [
    {
     "data": {
      "text/plain": [
       "['Ford', 'BMW', 'audi']"
      ]
     },
     "execution_count": 23,
     "metadata": {},
     "output_type": "execute_result"
    }
   ],
   "source": [
    "cars = [\"Ford\", \"Volvo\", \"BMW\",\"audi\"]\n",
    "cars.remove(\"Volvo\")\n",
    "cars"
   ]
  },
  {
   "cell_type": "markdown",
   "id": "4eb84ff8-d8a0-489a-a582-5c642200cced",
   "metadata": {},
   "source": [
    "### Classes and Objects"
   ]
  },
  {
   "cell_type": "code",
   "execution_count": null,
   "id": "6df74a66-86a5-4132-a97e-2bda5be2ca48",
   "metadata": {},
   "outputs": [],
   "source": [
    "# Define a class named 'Dog'\n",
    "class Dog:\n",
    "    # Define attributes (data)\n",
    "    def __init__(self, name, breed):\n",
    "        self.name = name\n",
    "        self.breed = breed\n",
    "\n",
    "    # Define a method (function)\n",
    "    def bark(self):\n",
    "        print(f\"{self.name} says Woof!\")\n",
    "\n",
    "# Create objects (instances) of the 'Dog' class\n",
    "dog1 = Dog(\"Buddy\", \"Golden Retriever\")\n",
    "dog2 = Dog(\"Max\", \"Poodle\")\n",
    "\n",
    "# Access attributes and call methods using the objects\n",
    "print(f\"{dog1.name} is a {dog1.breed}\")\n",
    "dog1.bark()\n",
    "\n",
    "print(f\"{dog2.name} is a {dog2.breed}\")\n",
    "dog2.bark()"
   ]
  },
  {
   "cell_type": "code",
   "execution_count": null,
   "id": "22bffb34-0e96-47af-9d1a-a95892503a86",
   "metadata": {},
   "outputs": [],
   "source": []
  },
  {
   "cell_type": "code",
   "execution_count": null,
   "id": "3d7a60df-74b4-4321-a955-39725e551cf2",
   "metadata": {},
   "outputs": [],
   "source": []
  },
  {
   "cell_type": "code",
   "execution_count": 11,
   "id": "76c08dbd-b232-40c7-974b-a3c725d3137d",
   "metadata": {},
   "outputs": [
    {
     "name": "stdout",
     "output_type": "stream",
     "text": [
      "The Red Toyota is now running!\n",
      "The Blue Honda is now running!\n",
      "The Red Toyota has stopped.\n",
      "The Blue Honda has stopped.\n"
     ]
    }
   ],
   "source": [
    "# Defining a simple Car class\n",
    "class Car:\n",
    "    # Constructor to set up the car\n",
    "    def __init__(self,red, b):\n",
    "        self.color = red    # Attribute for car's color\n",
    "        self.brand = brand    # Attribute for car's brand\n",
    "        self.is_running = False  # Attribute to track if car is running\n",
    "    \n",
    "    # Method to start the car\n",
    "    def start(self):\n",
    "        self.is_running = True\n",
    "        return f\"The {self.color} {self.brand} is now running!\"\n",
    "    \n",
    "    # Method to stop the car\n",
    "    def stop(self):\n",
    "        self.is_running = False\n",
    "        return f\"The {self.color} {self.brand} has stopped.\"\n",
    "\n",
    "\n",
    " # Create car objects\n",
    "car1 = Car()    # First car\n",
    "car2 = Car(\"Blue\", \"Honda\")    # Second car\n",
    "    \n",
    "    # Use the objects\n",
    "print(car1.start())  # Start the red Toyota\n",
    "print(car2.start())  # Start the blue Honda\n",
    "print(car1.stop())   # Stop the red Toyota\n",
    "print(car2.stop())   # Stop the blue Honda"
   ]
  },
  {
   "cell_type": "code",
   "execution_count": 4,
   "id": "4e06813d-59df-4483-901b-fe1af4d98e1c",
   "metadata": {},
   "outputs": [],
   "source": [
    "x = f\"tushars friend is {y} \"\n",
    "y = [\"sam\""
   ]
  },
  {
   "cell_type": "code",
   "execution_count": 5,
   "id": "dd7bd6dc-7eb5-4770-bd95-6150cbdf73cb",
   "metadata": {},
   "outputs": [
    {
     "data": {
      "text/plain": [
       "'tushars friend is sam '"
      ]
     },
     "execution_count": 5,
     "metadata": {},
     "output_type": "execute_result"
    }
   ],
   "source": [
    "x"
   ]
  },
  {
   "cell_type": "code",
   "execution_count": null,
   "id": "1c4a0d3d-6a44-4a14-b01a-663abfdd84e1",
   "metadata": {},
   "outputs": [],
   "source": [
    "Python Classes/Objects\n",
    "> Python is an object oriented programming language.\n",
    "\n",
    "> Almost everything in Python is an object, with its properties and methods.\n",
    "> A Class is like an object constructor, or a \"blueprint\" for creating objects.\n",
    "\n",
    "> Create a class named MyClass, with a property named x:\n",
    "class MyClass:\n",
    "  x = 5\n",
    "\n",
    "> Create an object named p1, and print the value of x:\n",
    "p1 = MyClass()\n",
    "print(p1.x)\n",
    "\n",
    "\n",
    "The __init__() Function\n",
    "> The examples above are classes and objects in their simplest form, and are not really useful in real life applications.\n",
    "\n",
    "> To understand the meaning of classes we have to understand the built-in __init__() function.\n",
    "\n",
    "> All classes have a function called __init__(), which is always executed when the class is being initiated.\n",
    "\n",
    "> Use the __init__() function to assign values to object properties, or other operations that are necessary to do when the object is being created:\n",
    "\n",
    "\n",
    "\n",
    "> Create a class named Person, use the __init__() function to assign values for name and age:\n",
    "\n",
    "class Person:\n",
    "  def __init__(self, name, age):\n",
    "    self.name = name\n",
    "    self.age = age\n",
    "\n",
    "p1 = Person(\"John\", 36)\n",
    "\n",
    "print(p1.name)\n",
    "print(p1.age)\n",
    "\n",
    "Note: The __init__() function is called automatically every time the class is being used to create a new object."
   ]
  },
  {
   "cell_type": "code",
   "execution_count": null,
   "id": "91dded95-20ae-4190-be8a-26d4e5c992bd",
   "metadata": {},
   "outputs": [],
   "source": []
  },
  {
   "cell_type": "code",
   "execution_count": null,
   "id": "10e7eaad-2473-4697-8f5b-19da9e4c27d0",
   "metadata": {},
   "outputs": [],
   "source": []
  },
  {
   "cell_type": "code",
   "execution_count": null,
   "id": "fa6267b1-12e0-4c66-8158-c1fa688ec015",
   "metadata": {},
   "outputs": [],
   "source": []
  },
  {
   "cell_type": "code",
   "execution_count": null,
   "id": "6971efae-2073-4bc5-94dc-ea84fea7fc85",
   "metadata": {},
   "outputs": [],
   "source": []
  },
  {
   "cell_type": "code",
   "execution_count": null,
   "id": "ab8133a0-6339-4a15-85e8-c0be17704277",
   "metadata": {},
   "outputs": [],
   "source": []
  },
  {
   "cell_type": "code",
   "execution_count": 6,
   "id": "aa9cba03-73a3-40ae-afcb-7b4ba7d635f4",
   "metadata": {},
   "outputs": [
    {
     "name": "stdout",
     "output_type": "stream",
     "text": [
      "Number: 1\n",
      "Number: 2\n",
      "Number: 3\n",
      "Number: 4\n",
      "Number: 5\n"
     ]
    }
   ],
   "source": [
    "# Print numbers from 1 to 5\n",
    "for i in range(1, 6):      # shift + Tab    description\n",
    "    print(f\"Number: {i}\")"
   ]
  },
  {
   "cell_type": "code",
   "execution_count": 13,
   "id": "edf5e22d-ea6f-4bd7-b340-d882fc4d7d59",
   "metadata": {},
   "outputs": [
    {
     "name": "stdout",
     "output_type": "stream",
     "text": [
      "Hi, Alice!\n",
      "Hi, Bob!\n",
      "Hi, Charlie!\n"
     ]
    }
   ],
   "source": [
    "friends = [\"Alice\", \"Bob\", \"Charlie\"]\n",
    "for friends in friends:\n",
    "    print(f\"Hi, {friend}!\")"
   ]
  },
  {
   "cell_type": "code",
   "execution_count": 3,
   "id": "16f610b7-7465-4bec-847f-1b380a52646f",
   "metadata": {},
   "outputs": [
    {
     "name": "stdout",
     "output_type": "stream",
     "text": [
      "5 x 1 = 5\n",
      "5 x 2 = 10\n",
      "5 x 3 = 15\n",
      "5 x 4 = 20\n",
      "5 x 5 = 25\n",
      "5 x 6 = 30\n",
      "5 x 7 = 35\n",
      "5 x 8 = 40\n",
      "5 x 9 = 45\n",
      "5 x 10 = 50\n"
     ]
    }
   ],
   "source": [
    "x = 5\n",
    "for i in range(1, 11):\n",
    "    result = x * i\n",
    "    print(f\"{x} x {i} = {result}\")"
   ]
  },
  {
   "cell_type": "code",
   "execution_count": 15,
   "id": "564bb6c0-fb45-46b5-a840-de28c1df5e9e",
   "metadata": {},
   "outputs": [
    {
     "name": "stdout",
     "output_type": "stream",
     "text": [
      "* \n",
      "* * \n",
      "* * * \n"
     ]
    }
   ],
   "source": [
    "for row in range(3):\n",
    "    for col in range(row + 1):\n",
    "        print(\"*\", end=\" \")\n",
    "    print()"
   ]
  },
  {
   "cell_type": "code",
   "execution_count": 16,
   "id": "8c93de65-2352-46b4-b0d9-cad3a5bd7094",
   "metadata": {},
   "outputs": [
    {
     "name": "stdout",
     "output_type": "stream",
     "text": [
      "* * * \n",
      "* * \n",
      "* \n"
     ]
    }
   ],
   "source": [
    "for row in range(3):\n",
    "    for col in range(3 - row):\n",
    "        print(\"*\", end=\" \")\n",
    "    print()"
   ]
  },
  {
   "cell_type": "code",
   "execution_count": null,
   "id": "4d2f7599-ab8e-4afb-8c4c-2a306b63cf3e",
   "metadata": {},
   "outputs": [],
   "source": []
  },
  {
   "cell_type": "code",
   "execution_count": null,
   "id": "7dbd9d3d-f8d8-4c4b-8c01-9eab14b3bdf0",
   "metadata": {},
   "outputs": [],
   "source": []
  },
  {
   "cell_type": "markdown",
   "id": "5977baa7-258e-4b9e-b8aa-36d8d767be4a",
   "metadata": {},
   "source": [
    "#### while loop"
   ]
  },
  {
   "cell_type": "code",
   "execution_count": 17,
   "id": "54f83f2a-b7ee-46b3-a596-5c4e44d8f449",
   "metadata": {},
   "outputs": [
    {
     "name": "stdout",
     "output_type": "stream",
     "text": [
      "T-minus 5\n",
      "T-minus 4\n",
      "T-minus 3\n",
      "T-minus 2\n",
      "T-minus 1\n",
      "Blast off!\n"
     ]
    }
   ],
   "source": [
    "# Countdown from 5 to 1\n",
    "count = 5\n",
    "while count > 0:\n",
    "    print(f\"T-minus {count}\")\n",
    "    count -= 1\n",
    "print(\"Blast off!\")"
   ]
  },
  {
   "cell_type": "code",
   "execution_count": 23,
   "id": "6714271d-700d-4485-b7fe-cbc3fbe1fe53",
   "metadata": {},
   "outputs": [
    {
     "name": "stdin",
     "output_type": "stream",
     "text": [
      "Enter password:  secret agent\n"
     ]
    },
    {
     "name": "stdout",
     "output_type": "stream",
     "text": [
      "Access granted!\n"
     ]
    }
   ],
   "source": [
    "correct_password = \"secret agent\"\n",
    "attempt = \"\"\n",
    "while attempt != correct_password:\n",
    "    attempt = input(\"Enter password: \")\n",
    "print(\"Access granted!\")"
   ]
  },
  {
   "cell_type": "code",
   "execution_count": 24,
   "id": "3f5016db-ea90-4975-969c-75244f575628",
   "metadata": {},
   "outputs": [
    {
     "name": "stdin",
     "output_type": "stream",
     "text": [
      "Enter damage taken (0-50):  50\n"
     ]
    },
    {
     "name": "stdout",
     "output_type": "stream",
     "text": [
      "Health remaining: 50\n"
     ]
    },
    {
     "name": "stdin",
     "output_type": "stream",
     "text": [
      "Enter damage taken (0-50):  49\n"
     ]
    },
    {
     "name": "stdout",
     "output_type": "stream",
     "text": [
      "Health remaining: 1\n"
     ]
    },
    {
     "name": "stdin",
     "output_type": "stream",
     "text": [
      "Enter damage taken (0-50):  1\n"
     ]
    },
    {
     "name": "stdout",
     "output_type": "stream",
     "text": [
      "Health remaining: 0\n",
      "Game Over!\n"
     ]
    }
   ],
   "source": [
    "health = 100\n",
    "while health > 0:\n",
    "    damage = int(input(\"Enter damage taken (0-50): \"))\n",
    "    health -= damage\n",
    "    print(f\"Health remaining: {health}\")\n",
    "print(\"Game Over!\")"
   ]
  },
  {
   "cell_type": "code",
   "execution_count": 3,
   "id": "8ece9b68-566f-4692-875c-35eab27cad09",
   "metadata": {},
   "outputs": [
    {
     "name": "stdin",
     "output_type": "stream",
     "text": [
      "Enter a number to generate its multiplication table:  5\n"
     ]
    },
    {
     "name": "stdout",
     "output_type": "stream",
     "text": [
      "5 x 1 = 5\n",
      "5 x 2 = 10\n",
      "5 x 3 = 15\n",
      "5 x 4 = 20\n",
      "5 x 5 = 25\n",
      "5 x 6 = 30\n",
      "5 x 7 = 35\n",
      "5 x 8 = 40\n",
      "5 x 9 = 45\n",
      "5 x 10 = 50\n",
      "5 x 11 = 55\n",
      "5 x 12 = 60\n",
      "5 x 13 = 65\n",
      "5 x 14 = 70\n",
      "5 x 15 = 75\n",
      "5 x 16 = 80\n",
      "5 x 17 = 85\n",
      "5 x 18 = 90\n",
      "5 x 19 = 95\n",
      "5 x 20 = 100\n",
      "5 x 21 = 105\n",
      "5 x 22 = 110\n",
      "5 x 23 = 115\n",
      "5 x 24 = 120\n",
      "5 x 25 = 125\n",
      "5 x 26 = 130\n",
      "5 x 27 = 135\n",
      "5 x 28 = 140\n",
      "5 x 29 = 145\n",
      "5 x 30 = 150\n",
      "5 x 31 = 155\n",
      "5 x 32 = 160\n",
      "5 x 33 = 165\n",
      "5 x 34 = 170\n",
      "5 x 35 = 175\n",
      "5 x 36 = 180\n",
      "5 x 37 = 185\n",
      "5 x 38 = 190\n",
      "5 x 39 = 195\n",
      "5 x 40 = 200\n",
      "5 x 41 = 205\n",
      "5 x 42 = 210\n",
      "5 x 43 = 215\n",
      "5 x 44 = 220\n",
      "5 x 45 = 225\n",
      "5 x 46 = 230\n",
      "5 x 47 = 235\n",
      "5 x 48 = 240\n",
      "5 x 49 = 245\n",
      "5 x 50 = 250\n",
      "5 x 51 = 255\n",
      "5 x 52 = 260\n",
      "5 x 53 = 265\n",
      "5 x 54 = 270\n",
      "5 x 55 = 275\n",
      "5 x 56 = 280\n",
      "5 x 57 = 285\n",
      "5 x 58 = 290\n",
      "5 x 59 = 295\n",
      "5 x 60 = 300\n",
      "5 x 61 = 305\n",
      "5 x 62 = 310\n",
      "5 x 63 = 315\n",
      "5 x 64 = 320\n",
      "5 x 65 = 325\n",
      "5 x 66 = 330\n",
      "5 x 67 = 335\n",
      "5 x 68 = 340\n",
      "5 x 69 = 345\n",
      "5 x 70 = 350\n",
      "5 x 71 = 355\n",
      "5 x 72 = 360\n",
      "5 x 73 = 365\n",
      "5 x 74 = 370\n",
      "5 x 75 = 375\n",
      "5 x 76 = 380\n",
      "5 x 77 = 385\n",
      "5 x 78 = 390\n",
      "5 x 79 = 395\n",
      "5 x 80 = 400\n",
      "5 x 81 = 405\n",
      "5 x 82 = 410\n",
      "5 x 83 = 415\n",
      "5 x 84 = 420\n",
      "5 x 85 = 425\n",
      "5 x 86 = 430\n",
      "5 x 87 = 435\n",
      "5 x 88 = 440\n",
      "5 x 89 = 445\n",
      "5 x 90 = 450\n",
      "5 x 91 = 455\n",
      "5 x 92 = 460\n",
      "5 x 93 = 465\n",
      "5 x 94 = 470\n",
      "5 x 95 = 475\n",
      "5 x 96 = 480\n",
      "5 x 97 = 485\n",
      "5 x 98 = 490\n",
      "5 x 99 = 495\n",
      "5 x 100 = 500\n"
     ]
    }
   ],
   "source": [
    "number = int(input(\"Enter a number to generate its multiplication table: \"))\n",
    "i = 1\n",
    "while i <= 100:\n",
    "    result = number * i\n",
    "    print(f\"{number} x {i} = {result}\")\n",
    "    i += 1"
   ]
  },
  {
   "cell_type": "code",
   "execution_count": null,
   "id": "5358da96-1152-46e5-995e-958a4ddb8372",
   "metadata": {},
   "outputs": [],
   "source": []
  }
 ],
 "metadata": {
  "kernelspec": {
   "display_name": "Python 3 (ipykernel)",
   "language": "python",
   "name": "python3"
  },
  "language_info": {
   "codemirror_mode": {
    "name": "ipython",
    "version": 3
   },
   "file_extension": ".py",
   "mimetype": "text/x-python",
   "name": "python",
   "nbconvert_exporter": "python",
   "pygments_lexer": "ipython3",
   "version": "3.12.7"
  }
 },
 "nbformat": 4,
 "nbformat_minor": 5
}
