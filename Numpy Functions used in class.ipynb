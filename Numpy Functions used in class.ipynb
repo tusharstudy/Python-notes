{
 "cells": [
  {
   "cell_type": "markdown",
   "id": "490a696b-d1a3-45dd-8a86-d8c25baa271e",
   "metadata": {},
   "source": [
    "### Numpy"
   ]
  },
  {
   "cell_type": "code",
   "execution_count": null,
   "id": "0b74f535-8379-44f2-b699-517c9727bb06",
   "metadata": {},
   "outputs": [],
   "source": [
    "1) import pandas as pd"
   ]
  },
  {
   "cell_type": "code",
   "execution_count": null,
   "id": "598f5701-8d46-464c-b9ae-16acc0d021fa",
   "metadata": {},
   "outputs": [],
   "source": [
    "2) np.array()"
   ]
  },
  {
   "cell_type": "code",
   "execution_count": null,
   "id": "35c173be-9835-4695-afa4-88cb81ed0252",
   "metadata": {},
   "outputs": [],
   "source": [
    "3) .ndim"
   ]
  },
  {
   "cell_type": "code",
   "execution_count": null,
   "id": "d50791da-15b6-4224-b531-4f852cc7b2fa",
   "metadata": {},
   "outputs": [],
   "source": [
    "4) .shape"
   ]
  },
  {
   "cell_type": "code",
   "execution_count": null,
   "id": "7ea6eec5-770a-4435-b261-67eff9aaf240",
   "metadata": {},
   "outputs": [],
   "source": [
    "5) .dtype"
   ]
  },
  {
   "cell_type": "code",
   "execution_count": null,
   "id": "7ba74d80-0dd3-4e5e-bdf1-50fb454066d0",
   "metadata": {},
   "outputs": [],
   "source": [
    "6) .itemsize"
   ]
  },
  {
   "cell_type": "code",
   "execution_count": null,
   "id": "fe9e230c-46fb-4988-ab5f-332e8e095cec",
   "metadata": {},
   "outputs": [],
   "source": [
    "7) .size"
   ]
  },
  {
   "cell_type": "code",
   "execution_count": null,
   "id": "12edd295-4bb0-4f13-ac63-4bcfcbc87c2b",
   "metadata": {},
   "outputs": [],
   "source": [
    "8) Accesing and Changing specific elements, rows, columns, etc."
   ]
  },
  {
   "cell_type": "code",
   "execution_count": null,
   "id": "d79e452f-a8ad-4ea4-929a-6cd3ecda7880",
   "metadata": {},
   "outputs": [],
   "source": [
    "9) .zeros()"
   ]
  },
  {
   "cell_type": "code",
   "execution_count": null,
   "id": "7e96e4d5-8c9e-4b9e-a1b9-07e7f083a469",
   "metadata": {},
   "outputs": [],
   "source": [
    "10) .ones()"
   ]
  },
  {
   "cell_type": "code",
   "execution_count": null,
   "id": "3b10d81c-ac6c-4c42-8580-21ca9f7ff1f3",
   "metadata": {},
   "outputs": [],
   "source": [
    "11) .full()"
   ]
  },
  {
   "cell_type": "code",
   "execution_count": null,
   "id": "29778dde-12c4-4b12-bf5b-d9418d91fc22",
   "metadata": {},
   "outputs": [],
   "source": [
    "12) .full_like()"
   ]
  },
  {
   "cell_type": "code",
   "execution_count": null,
   "id": "7723ad0f-b7af-48f7-ab89-cdba22dcc5fb",
   "metadata": {},
   "outputs": [],
   "source": [
    "13) .random.rand()"
   ]
  },
  {
   "cell_type": "code",
   "execution_count": null,
   "id": "2f677405-e91a-418e-8dbc-155896bbf668",
   "metadata": {},
   "outputs": [],
   "source": [
    "14) .random.randint()"
   ]
  },
  {
   "cell_type": "code",
   "execution_count": null,
   "id": "90c331a7-0f4b-498e-91bf-a5dcdc83d1dc",
   "metadata": {},
   "outputs": [],
   "source": [
    "15) np.identity()"
   ]
  },
  {
   "cell_type": "code",
   "execution_count": null,
   "id": "19773376-0282-4999-b991-b97d5c7ec1c7",
   "metadata": {},
   "outputs": [],
   "source": [
    "16) .repeat()"
   ]
  },
  {
   "cell_type": "code",
   "execution_count": null,
   "id": "dcd83280-1ad5-4c9f-9975-52cd4d917ddf",
   "metadata": {},
   "outputs": [],
   "source": [
    "17) .min"
   ]
  },
  {
   "cell_type": "code",
   "execution_count": null,
   "id": "69bd9262-d3a3-467a-a515-23e523333d30",
   "metadata": {},
   "outputs": [],
   "source": [
    "18) .max"
   ]
  },
  {
   "cell_type": "code",
   "execution_count": null,
   "id": "48e8549b-ac88-48f6-bfc8-771e48fcf295",
   "metadata": {},
   "outputs": [],
   "source": [
    "19) .sum"
   ]
  },
  {
   "cell_type": "code",
   "execution_count": null,
   "id": "e4c609cd-a814-43ec-8a51-10ba7cca9e1b",
   "metadata": {},
   "outputs": [],
   "source": [
    "20) .reshape"
   ]
  },
  {
   "cell_type": "code",
   "execution_count": null,
   "id": "a6193b82-0ca1-4c2d-b664-5dbe64782983",
   "metadata": {},
   "outputs": [],
   "source": [
    "21) .vstack"
   ]
  },
  {
   "cell_type": "code",
   "execution_count": null,
   "id": "8b8a7df7-64fb-4743-a2c5-c50b477f5653",
   "metadata": {},
   "outputs": [],
   "source": [
    "22) .hstack"
   ]
  },
  {
   "cell_type": "code",
   "execution_count": null,
   "id": "35cd4be4-0ef3-4676-a3c2-f227a6dac8c3",
   "metadata": {},
   "outputs": [],
   "source": []
  },
  {
   "cell_type": "code",
   "execution_count": null,
   "id": "ca103718-6d3f-41d5-ada3-3d801333e757",
   "metadata": {},
   "outputs": [],
   "source": [
    "1) import pandas as pd\n",
    "2) np.array()\n",
    "3) .ndim\n",
    "4) .shape\n",
    "5) .dtype\n",
    "6) .itemsize\n",
    "7) .size\n",
    "8) Accesing and Changing specific elements, rows, columns, etc.\n",
    "9) .zeros()\n",
    "10) .ones()\n",
    "11) .full()\n",
    "12) .full_like()\n",
    "13) .random.rand()\n",
    "14) .random.randint()\n",
    "15) np.identity()\n",
    "16) .repeat()\n",
    "17) .min\n",
    "18) .max\n",
    "19) .sum\n",
    "20) .reshape\n",
    "21) .vstack\n",
    "22) .hstack"
   ]
  }
 ],
 "metadata": {
  "kernelspec": {
   "display_name": "Python 3 (ipykernel)",
   "language": "python",
   "name": "python3"
  },
  "language_info": {
   "codemirror_mode": {
    "name": "ipython",
    "version": 3
   },
   "file_extension": ".py",
   "mimetype": "text/x-python",
   "name": "python",
   "nbconvert_exporter": "python",
   "pygments_lexer": "ipython3",
   "version": "3.12.7"
  }
 },
 "nbformat": 4,
 "nbformat_minor": 5
}
