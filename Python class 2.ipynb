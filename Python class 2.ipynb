{
 "cells": [
  {
   "cell_type": "markdown",
   "id": "08506761-f34e-4a6b-85f8-3c21fd3fd01b",
   "metadata": {},
   "source": [
    "## There are four collection data types in the Python programming language:"
   ]
  },
  {
   "cell_type": "markdown",
   "id": "ecbb8140-832f-42a5-b38a-f8bf7c91f90f",
   "metadata": {},
   "source": [
    "### List : is a collection which is ordered and changeable. Allows duplicate members.\n",
    "### Tuple : is a collection which is ordered and unchangeable. Allows duplicate members.\n",
    "### Set : is a collection which is unordered, unchangeable*, and unindexed. No duplicate members.\n",
    "### Dictionary : is a collection which is ordered** and changeable. No duplicate members."
   ]
  },
  {
   "cell_type": "code",
   "execution_count": 3,
   "id": "00023ae4-973b-4ccf-b0d1-88ae00cfb477",
   "metadata": {},
   "outputs": [],
   "source": [
    "list1 = [\"apple\", \"banana\", \"cherry\",\"cherry\"]\n",
    "tuple1 = (\"people\",\"name\")\n",
    "thisset = {\"apple\", \"banana\", \"cherry\"}\n",
    "\n",
    "\n",
    "thisdict = {\n",
    "  \"brand\": \"Ford\",\n",
    "  \"model\": \"Mustang\",\n",
    "  \"year\": 1964\n",
    "}"
   ]
  },
  {
   "cell_type": "markdown",
   "id": "ae10b45c-77a9-471b-85f0-3a0dbc1ff324",
   "metadata": {},
   "source": [
    "### List"
   ]
  },
  {
   "cell_type": "code",
   "execution_count": 5,
   "id": "e8d7fde2-212a-4221-97e1-f394c12cec23",
   "metadata": {},
   "outputs": [],
   "source": [
    "# > Lists are used to store multiple items in a single variable.\n",
    "# > used to store collections of data, the other 3 are Tuple, Set, and Dictionary, all with different qualities and usage.\n",
    "# > Lists are created using square brackets:\n",
    "\n",
    "\n",
    "# List Items\n",
    "# > List items are ordered, changeable, and allow duplicate values.\n",
    "# > List items are indexed, the first item has index [0], the second item has index [1] etc.\n",
    "\n",
    "# Ordered\n",
    "# > When we say that lists are ordered, it means that the items have a defined order, and that order will not change.\n",
    "# > If you add new items to a list, the new items will be placed at the end of the list.\n",
    "\n",
    "# Allow Duplicates\n",
    "# > Since lists are indexed, lists can have items with the same value:\n",
    "\n",
    "\n",
    "# List items can be of any data type:\n",
    "# String, int and boolean data types:\n",
    "\n",
    "# > list1 = [\"apple\", \"banana\", \"cherry\"]\n",
    "# > list2 = [1, 5, 7, 9, 3]\n",
    "# > list3 = [True, False, False]\n",
    "# > list1 = [\"abc\", 34, True, 40, \"male\"]\n",
    "\n",
    "# type()\n",
    "\n",
    "# It is also possible to use the list() constructor when creating a new list.\n",
    "# > thislist = list((\"apple\", \"banana\", \"cherry\")) # note the double round-brackets\n",
    "# > print(thislist)"
   ]
  },
  {
   "cell_type": "code",
   "execution_count": null,
   "id": "9a1b0c37-881d-4310-9682-f3f4d90b9760",
   "metadata": {},
   "outputs": [],
   "source": [
    "# Access Items\n",
    "# > List items are indexed and you can access them by referring to the index number:\n",
    "# Print the second item of the list:\n",
    "\n",
    "# > thislist = [\"apple\", \"banana\", \"cherry\"]\n",
    "# > print(thislist[1])\n",
    "\n",
    "# Negative Indexing\n",
    "# > Negative indexing means start from the end\n",
    "# > -1 refers to the last item, -2 refers to the second last item etc.\n",
    "\n",
    "# Print the last item of the list:\n",
    "\n",
    "# > thislist = [\"apple\", \"banana\", \"cherry\"]\n",
    "# > print(thislist[-1])\n",
    "\n",
    "# Range of Indexes\n",
    "# > You can specify a range of indexes by specifying where to start and where to end the range.\n",
    "# > When specifying a range, the return value will be a new list with the specified items.\n",
    "\n",
    "# Return the third, fourth, and fifth item:\n",
    "\n",
    "# > thislist = [\"apple\", \"banana\", \"cherry\", \"orange\", \"kiwi\", \"melon\", \"mango\"]\n",
    "# > print(thislist[2:5])\n",
    "\n",
    "# > print(thislist[:4])\n",
    "# > print(thislist[2:])"
   ]
  },
  {
   "cell_type": "markdown",
   "id": "4d8cb361-1fc8-4cef-b8be-1e4caf78b8cb",
   "metadata": {},
   "source": [
    "### Tuple"
   ]
  },
  {
   "cell_type": "code",
   "execution_count": 1,
   "id": "ead2bd56-91dc-4e56-b8c1-3bb5f5f0a145",
   "metadata": {},
   "outputs": [],
   "source": [
    "# > A tuple is a collection which is ordered and unchangeable.\n",
    "# > Tuples are written with round brackets.\n",
    "\n",
    "# Ordered\n",
    "# > When we say that tuples are ordered, it means that the items have a defined order, and that order will not change.\n",
    "\n",
    "# Unchangeable\n",
    "# > Tuples are unchangeable, meaning that we cannot change, add or remove items after the tuple has been created.\n",
    "\n",
    "# Allow Duplicates\n",
    "# > Since tuples are indexed, they can have items with the same value:\n",
    "\n",
    "# > thistuple = (\"apple\", \"banana\", \"cherry\", \"apple\", \"cherry\")\n",
    "# > thistuple\n",
    "\n",
    "# Create Tuple With One Item\n",
    "# > To create a tuple with only one item, you have to add a comma after the item,\n",
    "#   otherwise Python will not recognize it as a tuple.\n",
    "# One item tuple, remember the comma:\n",
    "\n",
    "# thistuple = (\"apple\",)\n",
    "# print(type(thistuple))\n",
    "\n",
    "# #NOT a tuple\n",
    "# thistuple = (\"apple\")\n",
    "# print(type(thistuple))\n",
    "\n",
    "\n",
    "# Tuple items can be of any data type:\n",
    "# > String, int and boolean data types:\n",
    "\n",
    "# > tuple1 = (\"apple\", \"banana\", \"cherry\")\n",
    "# > tuple2 = (1, 5, 7, 9, 3)\n",
    "# > tuple3 = (True, False, False)\n",
    "# > tuple1 = (\"abc\", 34, True, 40, \"male\")"
   ]
  },
  {
   "cell_type": "markdown",
   "id": "5eb7068e-1dee-41a9-adcf-d5457f576f94",
   "metadata": {},
   "source": [
    "### Sets"
   ]
  },
  {
   "cell_type": "code",
   "execution_count": 3,
   "id": "0006128c-358f-486d-a667-f6671a1ef76b",
   "metadata": {},
   "outputs": [],
   "source": [
    "# > Sets are used to store multiple items in a single variable.\n",
    "# > A set is a collection which is unordered, unchangeable*, and unindexed.\n",
    "\n",
    "# Sets are written with curly brackets.\n",
    "# > thisset = {\"apple\", \"banana\", \"cherry\"}\n",
    "# > print(thisset)\n",
    "\n",
    "# * Note: Set items are unchangeable, but you can remove items and add new items.\n",
    "\n",
    "# Duplicate values will be ignored:\n",
    "# > thisset = {\"apple\", \"banana\", \"cherry\", \"apple\"}\n",
    "# > print(thisset)\n",
    "\n",
    "# Set items can be of any data type\n",
    "# > set1 = {\"abc\", 34, True, 40, \"male\"}"
   ]
  },
  {
   "cell_type": "markdown",
   "id": "09f7256a-8697-42d3-a270-5d761501fddd",
   "metadata": {},
   "source": [
    "### Dictionary"
   ]
  },
  {
   "cell_type": "code",
   "execution_count": 4,
   "id": "7563c7cd-3c01-4c16-9d20-3467c9ccceec",
   "metadata": {},
   "outputs": [],
   "source": [
    "# Dictionary\n",
    "\n",
    "# > Dictionaries are used to store data values in key:value pairs.\n",
    "# > A dictionary is a collection which is ordered*, changeable and do not allow duplicates.\n",
    "\n",
    "# Dictionaries are written with curly brackets, and have keys and values:\n",
    "> thisdict = {\n",
    ">   \"brand\": \"Ford\",\n",
    ">   \"model\": \"Mustang\",\n",
    ">   \"year\": 1964\n",
    "> }\n",
    "# > print(thisdict)\n",
    "\n",
    "# Dictionary items are presented in key:value pairs, and can be referred to by using the key name.\n",
    "# Print the brand value of the dictionary\n",
    "\n",
    "# > thisdict = {\n",
    "# >   \"brand\": \"Ford\",\n",
    "# >   \"model\": \"Mustang\",\n",
    "# >   \"year\": 1964\n",
    "# > }\n",
    "# > thisdict[\"brand\"]\n",
    "\n",
    "# Ordered or Unordered?\n",
    "# > When we say that dictionaries are ordered, it means that the items have a defined order,\n",
    "#   and that order will not change.\n",
    "# > Unordered means that the items do not have a defined order, you cannot refer to an item by using an index.\n",
    "\n",
    "# The values in dictionary items can be of any data type\n",
    "# > thisdict = {\n",
    "# >   \"brand\": \"Ford\",\n",
    "# >   \"electric\": False,\n",
    "# >   \"year\": 1964,\n",
    "# >   \"colors\": [\"red\", \"white\", \"blue\"]\n",
    "# > }"
   ]
  },
  {
   "cell_type": "code",
   "execution_count": null,
   "id": "10768fe7-03c6-4425-b720-3753ec5a061e",
   "metadata": {},
   "outputs": [],
   "source": []
  },
  {
   "cell_type": "code",
   "execution_count": null,
   "id": "10bd9f59-5051-4e08-892d-9a58197b2bc5",
   "metadata": {},
   "outputs": [],
   "source": []
  }
 ],
 "metadata": {
  "kernelspec": {
   "display_name": "Python 3 (ipykernel)",
   "language": "python",
   "name": "python3"
  },
  "language_info": {
   "codemirror_mode": {
    "name": "ipython",
    "version": 3
   },
   "file_extension": ".py",
   "mimetype": "text/x-python",
   "name": "python",
   "nbconvert_exporter": "python",
   "pygments_lexer": "ipython3",
   "version": "3.12.7"
  }
 },
 "nbformat": 4,
 "nbformat_minor": 5
}
